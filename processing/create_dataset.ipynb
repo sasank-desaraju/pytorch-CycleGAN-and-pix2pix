{
 "cells": [
  {
   "cell_type": "markdown",
   "metadata": {},
   "source": [
    "Go from an image directory of images to a dataset directory structure."
   ]
  },
  {
   "cell_type": "code",
   "execution_count": 1,
   "metadata": {},
   "outputs": [],
   "source": [
    "# Import stuff\n",
    "import numpy as np\n",
    "import os\n",
    "import shutil\n",
    "from datetime import timedelta\n",
    "import cv2\n",
    "import numpy as np\n",
    "import pandas as pd\n",
    "from sklearn.model_selection import train_test_split\n",
    "from tqdm import tqdm"
   ]
  },
  {
   "cell_type": "code",
   "execution_count": 2,
   "metadata": {},
   "outputs": [],
   "source": [
    "# Directory address\n",
    "# image_dir = \"/blue/azarrinpar/ICG_AI/pytorch-CycleGAN-and-pix2pix/img_src/9-23/\"\n",
    "image_dir = \"/blue/azarrinpar/ICG_AI/ModelData/2024_11_24_Older_BothDose/\"\n",
    "\n",
    "# Dataset address\n",
    "dataset_dir = \"/blue/azarrinpar/ICG_AI/pytorch-CycleGAN-and-pix2pix/datasets/2024_11_24_Older_BothDose/\""
   ]
  },
  {
   "cell_type": "code",
   "execution_count": 3,
   "metadata": {},
   "outputs": [],
   "source": [
    "# Get list of images names in the directory and check they are the same\n",
    "vis_dir = image_dir + \"vis/\"\n",
    "vis_list = sorted(os.listdir(vis_dir))\n",
    "icg_dir = image_dir + \"icg/\"\n",
    "icg_list = sorted(os.listdir(icg_dir))\n",
    "assert vis_list == icg_list, \"The two directories do not have the same images\"\n",
    "img_list = vis_list"
   ]
  },
  {
   "cell_type": "code",
   "execution_count": 4,
   "metadata": {},
   "outputs": [
    {
     "name": "stdout",
     "output_type": "stream",
     "text": [
      "['P10S1.png', 'P10S2.png', 'P10S3.png', 'P10S4.png', 'P10S5.png', 'P11S1.png', 'P11S2.png', 'P11S3.png', 'P11S4.png', 'P11S5.png', 'P11S6.png', 'P12S1.png', 'P12S2.png', 'P12S3.png', 'P12S4.png', 'P12S5.png', 'P12S6.png', 'P13S1.png', 'P13S2.png', 'P13S3.png', 'P13S4.png', 'P13S5.png', 'P15S1.png', 'P15S2.png', 'P15S3.png', 'P15S4.png', 'P15S5.png', 'P16S1.png', 'P16S2.png', 'P16S3.png', 'P16S4.png', 'P16S5.png', 'P16S6.png', 'P17S1.png', 'P17S2.png', 'P17S3.png', 'P17S4.png', 'P17S5.png', 'P18S1.png', 'P18S2.png', 'P18S3.png', 'P18S4.png', 'P18S5.png', 'P18S6.png', 'P19S1.png', 'P19S2.png', 'P19S3.png', 'P19S4.png', 'P19S5.png', 'P1S1.png', 'P1S2.png', 'P1S3.png', 'P1S4.png', 'P1S5.png', 'P1S6.png', 'P21S1.png', 'P21S2.png', 'P21S3.png', 'P21S4.png', 'P21S5.png', 'P22S1.png', 'P22S2.png', 'P22S3.png', 'P22S4.png', 'P22S5.png', 'P22S6.png', 'P23S1.png', 'P23S2.png', 'P23S3.png', 'P23S4.png', 'P23S5.png', 'P24S1.png', 'P24S2.png', 'P24S3.png', 'P24S4.png', 'P24S5.png', 'P24S6.png', 'P25S1.png', 'P25S2.png', 'P25S3.png', 'P25S4.png', 'P25S5.png', 'P25S6.png', 'P25S7.png', 'P26S1.png', 'P26S2.png', 'P26S3.png', 'P26S4.png', 'P26S5.png', 'P28S1.png', 'P28S2.png', 'P28S3.png', 'P28S4.png', 'P28S5.png', 'P28S6.png', 'P29S1.png', 'P29S2.png', 'P29S3.png', 'P29S4.png', 'P29S5.png', 'P2S1.png', 'P2S2.png', 'P2S3.png', 'P2S4.png', 'P2S5.png', 'P2S6.png', 'P30S1.png', 'P30S2.png', 'P30S3.png', 'P30S4.png', 'P30S5.png', 'P30S6.png', 'P32S1.png', 'P32S2.png', 'P32S3.png', 'P32S4.png', 'P32S5.png', 'P34S1.png', 'P34S2.png', 'P34S3.png', 'P34S4.png', 'P34S5.png', 'P35S1.png', 'P35S2.png', 'P35S3.png', 'P35S4.png', 'P35S5.png', 'P36S1.png', 'P36S2.png', 'P36S3.png', 'P36S4.png', 'P36S5.png', 'P36S6.png', 'P8S1.png', 'P8S2.png', 'P8S3.png', 'P8S4.png', 'P8S5.png', 'P9S1.png', 'P9S2.png', 'P9S3.png', 'P9S4.png', 'P9S5.png']\n"
     ]
    }
   ],
   "source": [
    "print(img_list)"
   ]
  },
  {
   "cell_type": "code",
   "execution_count": 5,
   "metadata": {},
   "outputs": [],
   "source": [
    "# Make directories for the dataset\n",
    "vis_train = os.path.join(dataset_dir, \"A/train\")\n",
    "vis_test = os.path.join(dataset_dir, \"A/test\")\n",
    "vis_val = os.path.join(dataset_dir, \"A/val\")\n",
    "icg_train = os.path.join(dataset_dir, \"B/train\")\n",
    "icg_test = os.path.join(dataset_dir, \"B/test\")\n",
    "icg_val = os.path.join(dataset_dir, \"B/val\")\n",
    "\n",
    "# Create directories\n",
    "os.makedirs(vis_train, exist_ok=True)\n",
    "os.makedirs(vis_test, exist_ok=True)\n",
    "os.makedirs(vis_val, exist_ok=True)\n",
    "os.makedirs(icg_train, exist_ok=True)\n",
    "os.makedirs(icg_test, exist_ok=True)\n",
    "os.makedirs(icg_val, exist_ok=True)"
   ]
  },
  {
   "cell_type": "code",
   "execution_count": 6,
   "metadata": {},
   "outputs": [
    {
     "name": "stdout",
     "output_type": "stream",
     "text": [
      "['P10S1.png', 'P10S2.png', 'P10S3.png', 'P10S4.png', 'P10S5.png', 'P11S1.png', 'P11S2.png', 'P11S3.png', 'P11S4.png', 'P11S5.png', 'P11S6.png', 'P12S1.png', 'P12S2.png', 'P12S3.png', 'P12S4.png', 'P12S5.png', 'P12S6.png', 'P13S1.png', 'P13S2.png', 'P13S3.png', 'P13S4.png', 'P13S5.png', 'P15S1.png', 'P15S2.png', 'P15S3.png', 'P15S4.png', 'P15S5.png', 'P16S1.png', 'P16S2.png', 'P16S3.png', 'P16S4.png', 'P16S5.png', 'P16S6.png', 'P17S1.png', 'P17S2.png', 'P17S3.png', 'P17S4.png', 'P17S5.png', 'P18S1.png', 'P18S2.png', 'P18S3.png', 'P18S4.png', 'P18S5.png', 'P18S6.png', 'P19S1.png', 'P19S2.png', 'P19S3.png', 'P19S4.png', 'P19S5.png', 'P1S1.png', 'P1S2.png', 'P1S3.png', 'P1S4.png', 'P1S5.png', 'P1S6.png', 'P21S1.png', 'P21S2.png', 'P21S3.png', 'P21S4.png', 'P21S5.png', 'P22S1.png', 'P22S2.png', 'P22S3.png', 'P22S4.png', 'P22S5.png', 'P22S6.png', 'P23S1.png', 'P23S2.png', 'P23S3.png', 'P23S4.png', 'P23S5.png', 'P24S1.png', 'P24S2.png', 'P24S3.png', 'P24S4.png', 'P24S5.png', 'P24S6.png', 'P25S1.png', 'P25S2.png', 'P25S3.png', 'P25S4.png', 'P25S5.png', 'P25S6.png', 'P25S7.png', 'P26S1.png', 'P26S2.png', 'P26S3.png', 'P26S4.png', 'P26S5.png', 'P28S1.png', 'P28S2.png', 'P28S3.png', 'P28S4.png', 'P28S5.png', 'P28S6.png', 'P29S1.png', 'P29S2.png', 'P29S3.png', 'P29S4.png', 'P29S5.png', 'P2S1.png', 'P2S2.png', 'P2S3.png', 'P2S4.png', 'P2S5.png', 'P2S6.png', 'P30S1.png', 'P30S2.png', 'P30S3.png', 'P30S4.png', 'P30S5.png', 'P30S6.png', 'P32S1.png', 'P32S2.png', 'P32S3.png', 'P32S4.png', 'P32S5.png', 'P34S1.png', 'P34S2.png', 'P34S3.png', 'P34S4.png', 'P34S5.png', 'P35S1.png', 'P35S2.png', 'P35S3.png', 'P35S4.png', 'P35S5.png', 'P36S1.png', 'P36S2.png', 'P36S3.png', 'P36S4.png', 'P36S5.png', 'P36S6.png', 'P8S1.png', 'P8S2.png', 'P8S3.png', 'P8S4.png', 'P8S5.png', 'P9S1.png', 'P9S2.png', 'P9S3.png', 'P9S4.png', 'P9S5.png']\n"
     ]
    }
   ],
   "source": [
    "# Randomize the image list if you want\n",
    "np.random.seed(0)\n",
    "# np.random.shuffle(img_list)\n",
    "print(img_list)"
   ]
  },
  {
   "cell_type": "code",
   "execution_count": 7,
   "metadata": {},
   "outputs": [
    {
     "name": "stdout",
     "output_type": "stream",
     "text": [
      "Train list:  ['P10S1.png', 'P10S2.png', 'P10S3.png', 'P10S4.png', 'P10S5.png', 'P11S1.png', 'P11S2.png', 'P11S3.png', 'P11S4.png', 'P11S5.png', 'P11S6.png', 'P12S1.png', 'P12S2.png', 'P12S3.png', 'P12S4.png', 'P12S5.png', 'P12S6.png', 'P13S1.png', 'P13S2.png', 'P13S3.png', 'P13S4.png', 'P13S5.png', 'P15S1.png', 'P15S2.png', 'P15S3.png', 'P15S4.png', 'P15S5.png', 'P16S1.png', 'P16S2.png', 'P16S3.png', 'P16S4.png', 'P16S5.png', 'P16S6.png', 'P17S1.png', 'P17S2.png', 'P17S3.png', 'P17S4.png', 'P17S5.png', 'P18S1.png', 'P18S2.png', 'P18S3.png', 'P18S4.png', 'P18S5.png', 'P18S6.png', 'P19S1.png', 'P19S2.png', 'P19S3.png', 'P19S4.png', 'P19S5.png', 'P1S1.png', 'P1S2.png', 'P1S3.png', 'P1S4.png', 'P1S5.png', 'P1S6.png', 'P21S1.png', 'P21S2.png', 'P21S3.png', 'P21S4.png', 'P21S5.png', 'P22S1.png', 'P22S2.png', 'P22S3.png', 'P22S4.png', 'P22S5.png', 'P22S6.png', 'P23S1.png', 'P23S2.png', 'P23S3.png', 'P23S4.png', 'P23S5.png', 'P24S1.png', 'P24S2.png', 'P24S3.png', 'P24S4.png', 'P24S5.png', 'P24S6.png', 'P25S1.png', 'P25S2.png', 'P25S3.png', 'P25S4.png', 'P25S5.png', 'P25S6.png', 'P25S7.png', 'P26S1.png', 'P26S2.png', 'P26S3.png', 'P26S4.png', 'P26S5.png', 'P28S1.png', 'P28S2.png', 'P28S3.png', 'P28S4.png', 'P28S5.png', 'P28S6.png', 'P29S1.png', 'P29S2.png', 'P29S3.png', 'P29S4.png', 'P29S5.png', 'P2S1.png', 'P2S2.png']\n",
      "Val list:  ['P2S3.png', 'P2S4.png', 'P2S5.png', 'P2S6.png', 'P30S1.png', 'P30S2.png', 'P30S3.png', 'P30S4.png', 'P30S5.png', 'P30S6.png', 'P32S1.png', 'P32S2.png', 'P32S3.png', 'P32S4.png', 'P32S5.png', 'P34S1.png', 'P34S2.png', 'P34S3.png', 'P34S4.png', 'P34S5.png', 'P35S1.png', 'P35S2.png', 'P35S3.png', 'P35S4.png', 'P35S5.png', 'P36S1.png']\n",
      "Test list:  ['P36S2.png', 'P36S3.png', 'P36S4.png', 'P36S5.png', 'P36S6.png', 'P8S1.png', 'P8S2.png', 'P8S3.png', 'P8S4.png', 'P8S5.png', 'P9S1.png', 'P9S2.png', 'P9S3.png', 'P9S4.png', 'P9S5.png']\n"
     ]
    }
   ],
   "source": [
    "TEST_PERCENT = 0.1\n",
    "VAL_PERCENT = 0.2\n",
    "\n",
    "# Split the image list into \n",
    "# train, test, and validation sets using sklearn ttv split\n",
    "train_list, test_list = train_test_split(img_list, test_size=TEST_PERCENT, shuffle=False)\n",
    "train_list, val_list = train_test_split(train_list, test_size=VAL_PERCENT, shuffle=False)\n",
    "print(\"Train list: \", train_list)\n",
    "print(\"Val list: \", val_list)\n",
    "print(\"Test list: \", test_list)"
   ]
  },
  {
   "cell_type": "code",
   "execution_count": 8,
   "metadata": {},
   "outputs": [
    {
     "name": "stderr",
     "output_type": "stream",
     "text": [
      "Copying train images: 100%|██████████| 102/102 [00:00<00:00, 175.01it/s]\n",
      "Copying val images: 100%|██████████| 26/26 [00:00<00:00, 185.28it/s]\n",
      "Copying test images: 100%|██████████| 15/15 [00:00<00:00, 181.41it/s]\n"
     ]
    }
   ],
   "source": [
    "# Copy the images to the directories\n",
    "for img in tqdm(train_list, desc=\"Copying train images\"):\n",
    "    shutil.copy(os.path.join(vis_dir, img), vis_train)\n",
    "    shutil.copy(os.path.join(icg_dir, img), icg_train)\n",
    "    # vis_img = cv2.imread(os.path.join(vis_dir, img))\n",
    "    # icg_img = cv2.imread(os.path.join(icg_dir, img))\n",
    "    # cv2.imwrite(os.path.join(vis_train, img), vis_img)\n",
    "    # cv2.imwrite(os.path.join(icg_train, img), icg_img)\n",
    "\n",
    "for img in tqdm(val_list, desc=\"Copying val images\"):\n",
    "    shutil.copy(os.path.join(vis_dir, img), vis_val)\n",
    "    shutil.copy(os.path.join(icg_dir, img), icg_val)\n",
    "    # vis_img = cv2.imread(os.path.join(vis_dir, img))\n",
    "    # icg_img = cv2.imread(os.path.join(icg_dir, img))\n",
    "    # cv2.imwrite(os.path.join(vis_val, img), vis_img)\n",
    "    # cv2.imwrite(os.path.join(icg_val, img), icg_img)\n",
    "\n",
    "for img in tqdm(test_list, desc=\"Copying test images\"):\n",
    "    shutil.copy(os.path.join(vis_dir, img), vis_test)\n",
    "    shutil.copy(os.path.join(icg_dir, img), icg_test)\n",
    "    # vis_img = cv2.imread(os.path.join(vis_dir, img))\n",
    "    # icg_img = cv2.imread(os.path.join(icg_dir, img))\n",
    "    # cv2.imwrite(os.path.join(vis_test, img), vis_img)\n",
    "    # cv2.imwrite(os.path.join(icg_test, img), icg_img)"
   ]
  },
  {
   "cell_type": "code",
   "execution_count": 10,
   "metadata": {},
   "outputs": [],
   "source": [
    "# FOR img2img-turbo\n",
    "# Create a json for train, test, and val \"prompts\"\n",
    "# Each json is a dictionary where the filename is the key and the prompt string is the value\n",
    "# Let us make this with all of the prompts being empty strings\n",
    "\n",
    "# train.json\n",
    "train_json = {}\n",
    "for img in train_list:\n",
    "    train_json[img] = \"\"\n",
    "# Let us format it with every dictionary entry on a new line; this did not succeed yet\n",
    "train_json = pd.Series(train_json)\n",
    "train_json.to_json(dataset_dir + \"train.json\")\n",
    "\n",
    "# test.json\n",
    "test_json = {}\n",
    "for img in test_list:\n",
    "    test_json[img] = \"\"\n",
    "test_json = pd.Series(test_json)\n",
    "test_json.to_json(dataset_dir + \"test.json\")"
   ]
  }
 ],
 "metadata": {
  "kernelspec": {
   "display_name": "cv",
   "language": "python",
   "name": "python3"
  },
  "language_info": {
   "codemirror_mode": {
    "name": "ipython",
    "version": 3
   },
   "file_extension": ".py",
   "mimetype": "text/x-python",
   "name": "python",
   "nbconvert_exporter": "python",
   "pygments_lexer": "ipython3",
   "version": "3.10.14"
  }
 },
 "nbformat": 4,
 "nbformat_minor": 2
}
